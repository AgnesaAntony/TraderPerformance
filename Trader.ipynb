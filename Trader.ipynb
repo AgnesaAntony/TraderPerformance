{
 "cells": [
  {
   "cell_type": "markdown",
   "id": "d84e8b2b-df57-4724-a35e-60735556ae53",
   "metadata": {},
   "source": [
    "# Historical Trader Data"
   ]
  },
  {
   "cell_type": "markdown",
   "id": "d6958442-48cf-42e9-82bd-1fa62326e04b",
   "metadata": {},
   "source": [
    "## 1.Reading the DataSet"
   ]
  },
  {
   "cell_type": "code",
   "execution_count": 1,
   "id": "0e1c50a1-1ad8-46b3-a367-644cf07bcb0d",
   "metadata": {},
   "outputs": [
    {
     "name": "stdout",
     "output_type": "stream",
     "text": [
      "       Execution Price   Size Tokens      Size USD  Start Position  \\\n",
      "count    211224.000000  2.112240e+05  2.112240e+05    2.112240e+05   \n",
      "mean      11414.723350  4.623365e+03  5.639451e+03   -2.994625e+04   \n",
      "std       29447.654868  1.042729e+05  3.657514e+04    6.738074e+05   \n",
      "min           0.000005  8.740000e-07  0.000000e+00   -1.433463e+07   \n",
      "25%           4.854700  2.940000e+00  1.937900e+02   -3.762311e+02   \n",
      "50%          18.280000  3.200000e+01  5.970450e+02    8.472793e+01   \n",
      "75%         101.580000  1.879025e+02  2.058960e+03    9.337278e+03   \n",
      "max      109004.000000  1.582244e+07  3.921431e+06    3.050948e+07   \n",
      "\n",
      "          Closed PnL      Order ID            Fee      Trade ID     Timestamp  \n",
      "count  211224.000000  2.112240e+05  211224.000000  2.112240e+05  2.112240e+05  \n",
      "mean       48.749001  6.965388e+10       1.163967  5.628549e+14  1.737744e+12  \n",
      "std       919.164828  1.835753e+10       6.758854  3.257565e+14  8.689920e+09  \n",
      "min   -117990.104100  1.732711e+08      -1.175712  0.000000e+00  1.680000e+12  \n",
      "25%         0.000000  5.983853e+10       0.016121  2.810000e+14  1.740000e+12  \n",
      "50%         0.000000  7.442939e+10       0.089578  5.620000e+14  1.740000e+12  \n",
      "75%         5.792797  8.335543e+10       0.393811  8.460000e+14  1.740000e+12  \n",
      "max    135329.090100  9.014923e+10     837.471593  1.130000e+15  1.750000e+12  \n"
     ]
    }
   ],
   "source": [
    "import pandas as pd\n",
    "\n",
    "data=pd.read_csv(\"C:/Users/agnes/Downloads/historical_data.csv\")\n",
    "print(data.describe())"
   ]
  },
  {
   "cell_type": "markdown",
   "id": "8bd425c0-d994-49f0-948c-908082dba398",
   "metadata": {},
   "source": [
    "## 2.EDA"
   ]
  },
  {
   "cell_type": "code",
   "execution_count": 2,
   "id": "6c3594cd-58df-4b51-8f78-f60818ad1e34",
   "metadata": {},
   "outputs": [
    {
     "name": "stdout",
     "output_type": "stream",
     "text": [
      "<class 'pandas.core.frame.DataFrame'>\n",
      "RangeIndex: 211224 entries, 0 to 211223\n",
      "Data columns (total 16 columns):\n",
      " #   Column            Non-Null Count   Dtype  \n",
      "---  ------            --------------   -----  \n",
      " 0   Account           211224 non-null  object \n",
      " 1   Coin              211224 non-null  object \n",
      " 2   Execution Price   211224 non-null  float64\n",
      " 3   Size Tokens       211224 non-null  float64\n",
      " 4   Size USD          211224 non-null  float64\n",
      " 5   Side              211224 non-null  object \n",
      " 6   Timestamp IST     211224 non-null  object \n",
      " 7   Start Position    211224 non-null  float64\n",
      " 8   Direction         211224 non-null  object \n",
      " 9   Closed PnL        211224 non-null  float64\n",
      " 10  Transaction Hash  211224 non-null  object \n",
      " 11  Order ID          211224 non-null  int64  \n",
      " 12  Crossed           211224 non-null  bool   \n",
      " 13  Fee               211224 non-null  float64\n",
      " 14  Trade ID          211224 non-null  float64\n",
      " 15  Timestamp         211224 non-null  float64\n",
      "dtypes: bool(1), float64(8), int64(1), object(6)\n",
      "memory usage: 24.4+ MB\n",
      "None\n"
     ]
    }
   ],
   "source": [
    "print(data.info())"
   ]
  },
  {
   "cell_type": "code",
   "execution_count": 3,
   "id": "253fb6b8-b1c4-49f3-afc5-e56f9118abf7",
   "metadata": {},
   "outputs": [
    {
     "name": "stdout",
     "output_type": "stream",
     "text": [
      "                                      Account  Coin  Execution Price  \\\n",
      "0  0xae5eacaf9c6b9111fd53034a602c192a04e082ed  @107           7.9769   \n",
      "1  0xae5eacaf9c6b9111fd53034a602c192a04e082ed  @107           7.9800   \n",
      "2  0xae5eacaf9c6b9111fd53034a602c192a04e082ed  @107           7.9855   \n",
      "3  0xae5eacaf9c6b9111fd53034a602c192a04e082ed  @107           7.9874   \n",
      "4  0xae5eacaf9c6b9111fd53034a602c192a04e082ed  @107           7.9894   \n",
      "\n",
      "   Size Tokens  Size USD Side     Timestamp IST  Start Position Direction  \\\n",
      "0       986.87   7872.16  BUY  02-12-2024 22:50        0.000000       Buy   \n",
      "1        16.00    127.68  BUY  02-12-2024 22:50      986.524596       Buy   \n",
      "2       144.09   1150.63  BUY  02-12-2024 22:50     1002.518996       Buy   \n",
      "3       142.98   1142.04  BUY  02-12-2024 22:50     1146.558564       Buy   \n",
      "4         8.73     69.75  BUY  02-12-2024 22:50     1289.488521       Buy   \n",
      "\n",
      "   Closed PnL                                   Transaction Hash     Order ID  \\\n",
      "0         0.0  0xec09451986a1874e3a980418412fcd0201f500c95bac...  52017706630   \n",
      "1         0.0  0xec09451986a1874e3a980418412fcd0201f500c95bac...  52017706630   \n",
      "2         0.0  0xec09451986a1874e3a980418412fcd0201f500c95bac...  52017706630   \n",
      "3         0.0  0xec09451986a1874e3a980418412fcd0201f500c95bac...  52017706630   \n",
      "4         0.0  0xec09451986a1874e3a980418412fcd0201f500c95bac...  52017706630   \n",
      "\n",
      "   Crossed       Fee      Trade ID     Timestamp  \n",
      "0     True  0.345404  8.950000e+14  1.730000e+12  \n",
      "1     True  0.005600  4.430000e+14  1.730000e+12  \n",
      "2     True  0.050431  6.600000e+14  1.730000e+12  \n",
      "3     True  0.050043  1.080000e+15  1.730000e+12  \n",
      "4     True  0.003055  1.050000e+15  1.730000e+12  \n"
     ]
    }
   ],
   "source": [
    "print(data.head())"
   ]
  },
  {
   "cell_type": "code",
   "execution_count": 4,
   "id": "7f6f9c5f-49d5-4a3a-bae2-2bc90e6884fa",
   "metadata": {},
   "outputs": [
    {
     "name": "stdout",
     "output_type": "stream",
     "text": [
      "Index(['Account', 'Coin', 'Execution Price', 'Size Tokens', 'Size USD', 'Side',\n",
      "       'Timestamp IST', 'Start Position', 'Direction', 'Closed PnL',\n",
      "       'Transaction Hash', 'Order ID', 'Crossed', 'Fee', 'Trade ID',\n",
      "       'Timestamp'],\n",
      "      dtype='object')\n"
     ]
    }
   ],
   "source": [
    "print(data.columns)"
   ]
  },
  {
   "cell_type": "code",
   "execution_count": 5,
   "id": "65c52d9c-ac5a-45f6-bfec-893cbfe281f2",
   "metadata": {},
   "outputs": [
    {
     "data": {
      "text/plain": [
       "Coin\n",
       "HYPE    68005\n",
       "@107    29992\n",
       "BTC     26064\n",
       "ETH     11158\n",
       "SOL     10691\n",
       "        ...  \n",
       "@48         1\n",
       "@135        1\n",
       "@21         1\n",
       "@42         1\n",
       "@32         1\n",
       "Name: count, Length: 246, dtype: int64"
      ]
     },
     "execution_count": 5,
     "metadata": {},
     "output_type": "execute_result"
    }
   ],
   "source": [
    "data['Coin'].value_counts()"
   ]
  },
  {
   "cell_type": "code",
   "execution_count": 6,
   "id": "cbbdc106-48cf-4bd9-957c-22325d79c707",
   "metadata": {},
   "outputs": [
    {
     "data": {
      "text/plain": [
       "0         7.9769\n",
       "1         7.9800\n",
       "2         7.9855\n",
       "3         7.9874\n",
       "4         7.9894\n",
       "           ...  \n",
       "211219    1.1010\n",
       "211220    1.1010\n",
       "211221    1.1010\n",
       "211222    1.1010\n",
       "211223    1.1010\n",
       "Name: Execution Price, Length: 211224, dtype: float64"
      ]
     },
     "execution_count": 6,
     "metadata": {},
     "output_type": "execute_result"
    }
   ],
   "source": [
    "data['Execution Price']"
   ]
  },
  {
   "cell_type": "code",
   "execution_count": 7,
   "id": "ffe4df79-182a-4ed6-8f8b-d6f63d3af8e0",
   "metadata": {},
   "outputs": [
    {
     "data": {
      "text/plain": [
       "Account             0\n",
       "Coin                0\n",
       "Execution Price     0\n",
       "Size Tokens         0\n",
       "Size USD            0\n",
       "Side                0\n",
       "Timestamp IST       0\n",
       "Start Position      0\n",
       "Direction           0\n",
       "Closed PnL          0\n",
       "Transaction Hash    0\n",
       "Order ID            0\n",
       "Crossed             0\n",
       "Fee                 0\n",
       "Trade ID            0\n",
       "Timestamp           0\n",
       "dtype: int64"
      ]
     },
     "execution_count": 7,
     "metadata": {},
     "output_type": "execute_result"
    }
   ],
   "source": [
    "data.isnull().sum() # chcking for null value"
   ]
  },
  {
   "cell_type": "code",
   "execution_count": 8,
   "id": "42dde098-feb5-4176-86b6-c153b13a9889",
   "metadata": {},
   "outputs": [],
   "source": [
    "# converting the timestamp into date and time format\n",
    "data['Timestamp']=pd.to_datetime(data['Timestamp'])"
   ]
  },
  {
   "cell_type": "code",
   "execution_count": 9,
   "id": "e3cc2348-4dcd-4b1a-9a8a-05ab4f60650a",
   "metadata": {},
   "outputs": [],
   "source": [
    "data['pofitloss']=data['Closed PnL']/data['Size USD']"
   ]
  },
  {
   "cell_type": "code",
   "execution_count": 12,
   "id": "004219c8-c95a-4f34-8768-69944049f4a3",
   "metadata": {},
   "outputs": [],
   "source": [
    "data['profit_or_loss'] = data['Closed PnL'].apply(lambda x: 'Profit' if x > 0 else 'Loss')\n"
   ]
  },
  {
   "cell_type": "code",
   "execution_count": 14,
   "id": "dd91ae18-91ff-4444-9f4a-a72c1d85e9b8",
   "metadata": {},
   "outputs": [
    {
     "data": {
      "text/plain": [
       "profit_or_loss\n",
       "Loss      124355\n",
       "Profit     86869\n",
       "Name: count, dtype: int64"
      ]
     },
     "execution_count": 14,
     "metadata": {},
     "output_type": "execute_result"
    }
   ],
   "source": [
    "data['profit_or_loss'].value_counts()"
   ]
  },
  {
   "cell_type": "code",
   "execution_count": 15,
   "id": "43ffd419-8bbd-4413-9783-7ee310b8c7d9",
   "metadata": {},
   "outputs": [
    {
     "data": {
      "image/png": "[encoded data removed]",
      "text/plain": [
       "<Figure size 640x480 with 1 Axes>"
      ]
     },
     "metadata": {},
     "output_type": "display_data"
    }
   ],
   "source": [
    "#visualization\n",
    "import seaborn as sns\n",
    "import matplotlib.pyplot as plt\n",
    "\n",
    "sns.countplot(x=\"profit_or_loss\",data=data)\n",
    "plt.title(\"Profit or Loss trade\")\n",
    "plt.show()"
   ]
  },
  {
   "cell_type": "code",
   "execution_count": null,
   "id": "de619ee5-216c-4f17-9648-d9786afe9c47",
   "metadata": {},
   "outputs": [],
   "source": []
  },
  {
   "cell_type": "code",
   "execution_count": null,
   "id": "5025da50-c693-478e-93f0-4f58782003fa",
   "metadata": {},
   "outputs": [],
   "source": []
  }
 ],
 "metadata": {
  "kernelspec": {
   "display_name": "Python 3 (ipykernel)",
   "language": "python",
   "name": "python3"
  },
  "language_info": {
   "codemirror_mode": {
    "name": "ipython",
    "version": 3
   },
   "file_extension": ".py",
   "mimetype": "text/x-python",
   "name": "python",
   "nbconvert_exporter": "python",
   "pygments_lexer": "ipython3",
   "version": "3.12.7"
  }
 },
 "nbformat": 4,
 "nbformat_minor": 5
}
